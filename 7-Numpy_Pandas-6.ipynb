{
 "cells": [
  {
   "cell_type": "markdown",
   "id": "8a4bdb84-d1e5-4fef-8c63-4513531635ae",
   "metadata": {},
   "source": [
    "# Exercise 1: Create and Reshape a NumPy Array"
   ]
  },
  {
   "cell_type": "markdown",
   "id": "daf81820-ac9b-4a44-a8ad-4045197ccd16",
   "metadata": {},
   "source": [
    "### Steps:\n",
    "1. Import NumPy.\n",
    "2. Create an array from 1 to 10.\n",
    "3. Reshape it into a 2×5 matrix."
   ]
  },
  {
   "cell_type": "code",
   "execution_count": 1,
   "id": "adee6b12-4680-4a51-9010-1e4ebd946dbc",
   "metadata": {},
   "outputs": [],
   "source": [
    "import numpy as np"
   ]
  },
  {
   "cell_type": "code",
   "execution_count": 2,
   "id": "25b2b910-8f6a-48dc-b06f-3270d4fa6c7c",
   "metadata": {},
   "outputs": [],
   "source": [
    "# Step 1: Create an array from 1 to 10\n",
    "arr = np.arange(1, 11)"
   ]
  },
  {
   "cell_type": "code",
   "execution_count": 3,
   "id": "3f8b1c0e-3e9e-4b1d-93f2-a68dcae94824",
   "metadata": {},
   "outputs": [],
   "source": [
    "# Step 2: Reshape into a 2x5 matrix\n",
    "reshaped_arr = arr.reshape(2, 5)"
   ]
  },
  {
   "cell_type": "code",
   "execution_count": 4,
   "id": "b51f22b7-1e0b-487e-8837-afd91daaeaf1",
   "metadata": {},
   "outputs": [
    {
     "name": "stdout",
     "output_type": "stream",
     "text": [
      "[[ 1  2  3  4  5]\n",
      " [ 6  7  8  9 10]]\n"
     ]
    }
   ],
   "source": [
    "# Display the reshaped array\n",
    "print(reshaped_arr)"
   ]
  },
  {
   "cell_type": "markdown",
   "id": "cbc09ae3-ab77-4dbc-8037-9638a7cf4592",
   "metadata": {},
   "source": [
    "# Exercise 2: Extract Elements from an Array"
   ]
  },
  {
   "cell_type": "markdown",
   "id": "9731ed22-2371-48f6-8e30-47c5e688a358",
   "metadata": {},
   "source": [
    "### Steps:\n",
    "1. Create an array from 1 to 20.\n",
    "2. Extract elements between the 5th and 15th index."
   ]
  },
  {
   "cell_type": "code",
   "execution_count": 5,
   "id": "009a65a0-c436-4311-a387-bf70b6495473",
   "metadata": {},
   "outputs": [
    {
     "name": "stdout",
     "output_type": "stream",
     "text": [
      "[ 6  7  8  9 10 11 12 13 14 15 16]\n"
     ]
    }
   ],
   "source": [
    "# Step 1: Create an array from 1 to 20\n",
    "arr = np.arange(1, 21)\n",
    "\n",
    "# Step 2: Extract elements between index 5 and 15\n",
    "extracted_elements = arr[5:16]\n",
    "\n",
    "# Display extracted elements\n",
    "print(extracted_elements)\n"
   ]
  },
  {
   "cell_type": "markdown",
   "id": "028f1c26-f2af-4a83-b776-a595739d06f9",
   "metadata": {},
   "source": [
    "# Exercise 3: Create and Modify a Pandas Series"
   ]
  },
  {
   "cell_type": "markdown",
   "id": "ad9f2703-c4dc-4403-b6bc-9bd34cd6c6e4",
   "metadata": {},
   "source": [
    "Steps:\n",
    "1. Import Pandas.\n",
    "2. Create a Pandas Series.\n",
    "3. Add a new item 'pears': 4."
   ]
  },
  {
   "cell_type": "code",
   "execution_count": 6,
   "id": "17059bfe-2c04-45eb-93f5-ef0dd4a2253c",
   "metadata": {},
   "outputs": [
    {
     "name": "stdout",
     "output_type": "stream",
     "text": [
      "apples     3\n",
      "bananas    2\n",
      "oranges    1\n",
      "pears      4\n",
      "dtype: int64\n"
     ]
    }
   ],
   "source": [
    "import pandas as pd\n",
    "\n",
    "# Step 1: Create a Pandas Series\n",
    "fruits = pd.Series({'apples': 3, 'bananas': 2, 'oranges': 1})\n",
    "\n",
    "# Step 2: Add a new item\n",
    "fruits['pears'] = 4\n",
    "\n",
    "# Display the updated series\n",
    "print(fruits)\n"
   ]
  },
  {
   "cell_type": "markdown",
   "id": "c00ba0e2-8936-4b3d-b154-a0ee78de5f49",
   "metadata": {},
   "source": [
    "# Exercise 4: Create a DataFrame"
   ]
  },
  {
   "cell_type": "markdown",
   "id": "7d030ea7-c489-49bb-b5d9-1c846c91bfe9",
   "metadata": {},
   "source": [
    "### Steps:\n",
    "1. Create a Pandas DataFrame with columns: name, age, gender.\n",
    "2. Add 10 rows of data."
   ]
  },
  {
   "cell_type": "code",
   "execution_count": 7,
   "id": "f6377a9a-2edc-41f3-b246-0681b97e595e",
   "metadata": {},
   "outputs": [
    {
     "name": "stdout",
     "output_type": "stream",
     "text": [
      "      name  age gender\n",
      "0    Alice   25      F\n",
      "1      Bob   30      M\n",
      "2  Charlie   22      M\n",
      "3    David   28      M\n",
      "4      Eve   35      F\n",
      "5    Frank   40      M\n",
      "6    Grace   29      F\n",
      "7   Hannah   31      F\n",
      "8      Ian   27      M\n",
      "9     Jack   26      M\n"
     ]
    }
   ],
   "source": [
    "# Step 1: Create a DataFrame with 10 rows\n",
    "data = {\n",
    "    'name': ['Alice', 'Bob', 'Charlie', 'David', 'Eve', 'Frank', 'Grace', 'Hannah', 'Ian', 'Jack'],\n",
    "    'age': [25, 30, 22, 28, 35, 40, 29, 31, 27, 26],\n",
    "    'gender': ['F', 'M', 'M', 'M', 'F', 'M', 'F', 'F', 'M', 'M']\n",
    "}\n",
    "\n",
    "df = pd.DataFrame(data)\n",
    "\n",
    "# Display the DataFrame\n",
    "print(df)\n"
   ]
  },
  {
   "cell_type": "markdown",
   "id": "6468dcb1-6893-4997-ae3f-e740a28fbe25",
   "metadata": {},
   "source": [
    "# Exercise 5: Add a New Column to the DataFrame"
   ]
  },
  {
   "cell_type": "markdown",
   "id": "9af597a7-8729-483a-a869-464bad1e9ecf",
   "metadata": {},
   "source": [
    "### Steps:\n",
    "1. Add a new column \"occupation\" with values."
   ]
  },
  {
   "cell_type": "code",
   "execution_count": 8,
   "id": "2153dffd-c734-43a4-afcb-87d3c9fdc163",
   "metadata": {},
   "outputs": [
    {
     "name": "stdout",
     "output_type": "stream",
     "text": [
      "      name  age gender  occupation\n",
      "0    Alice   25      F  Programmer\n",
      "1      Bob   30      M     Manager\n",
      "2  Charlie   22      M     Analyst\n",
      "3    David   28      M  Programmer\n",
      "4      Eve   35      F     Manager\n",
      "5    Frank   40      M     Analyst\n",
      "6    Grace   29      F  Programmer\n",
      "7   Hannah   31      F     Manager\n",
      "8      Ian   27      M     Analyst\n",
      "9     Jack   26      M  Programmer\n"
     ]
    }
   ],
   "source": [
    "# Step 1: Add a new column \"occupation\"\n",
    "df['occupation'] = ['Programmer', 'Manager', 'Analyst', 'Programmer', 'Manager', \n",
    "                    'Analyst', 'Programmer', 'Manager', 'Analyst', 'Programmer']\n",
    "\n",
    "# Display the updated DataFrame\n",
    "print(df)\n"
   ]
  },
  {
   "cell_type": "markdown",
   "id": "d85b2ff9-56d1-4b4b-a318-c7815141a39f",
   "metadata": {},
   "source": [
    "# Exercise 6: Select Rows Where Age ≥ 30"
   ]
  },
  {
   "cell_type": "markdown",
   "id": "7d4ed6eb-8cd3-4930-af5d-0c4a445bdb74",
   "metadata": {},
   "source": [
    "### Steps:\n",
    "1. Filter rows where age ≥ 30."
   ]
  },
  {
   "cell_type": "code",
   "execution_count": 9,
   "id": "bc0a550b-68ca-4c9d-9b83-c03210ffd067",
   "metadata": {},
   "outputs": [
    {
     "name": "stdout",
     "output_type": "stream",
     "text": [
      "     name  age gender occupation\n",
      "1     Bob   30      M    Manager\n",
      "4     Eve   35      F    Manager\n",
      "5   Frank   40      M    Analyst\n",
      "7  Hannah   31      F    Manager\n"
     ]
    }
   ],
   "source": [
    "# Step 1: Select rows where age is greater than or equal to 30\n",
    "filtered_df = df[df['age'] >= 30]\n",
    "\n",
    "# Display the filtered DataFrame\n",
    "print(filtered_df)\n"
   ]
  },
  {
   "cell_type": "markdown",
   "id": "96a6fdcf-3407-489f-b617-6aa9392da4ee",
   "metadata": {},
   "source": [
    "# Exercise 7: Save and Read CSV File"
   ]
  },
  {
   "cell_type": "markdown",
   "id": "1daa138e-1f4f-4988-ad87-d4a911222348",
   "metadata": {},
   "source": [
    "### Steps:\n",
    "1. Save the DataFrame as a CSV file.\n",
    "2. Read the CSV file.\n",
    "3. Display the contents."
   ]
  },
  {
   "cell_type": "code",
   "execution_count": 10,
   "id": "560b350d-31e0-4af8-9461-ae938025ef8b",
   "metadata": {},
   "outputs": [
    {
     "name": "stdout",
     "output_type": "stream",
     "text": [
      "      name  age gender  occupation\n",
      "0    Alice   25      F  Programmer\n",
      "1      Bob   30      M     Manager\n",
      "2  Charlie   22      M     Analyst\n",
      "3    David   28      M  Programmer\n",
      "4      Eve   35      F     Manager\n",
      "5    Frank   40      M     Analyst\n",
      "6    Grace   29      F  Programmer\n",
      "7   Hannah   31      F     Manager\n",
      "8      Ian   27      M     Analyst\n",
      "9     Jack   26      M  Programmer\n"
     ]
    }
   ],
   "source": [
    "# Step 1: Save DataFrame as CSV\n",
    "df.to_csv('people_data.csv', index=False)\n",
    "\n",
    "# Step 2: Read the CSV file\n",
    "df_csv = pd.read_csv('people_data.csv')\n",
    "\n",
    "# Step 3: Display the contents\n",
    "print(df_csv)\n"
   ]
  },
  {
   "cell_type": "code",
   "execution_count": null,
   "id": "79095166-4fcf-4a8b-8633-f7583e588d14",
   "metadata": {},
   "outputs": [],
   "source": []
  }
 ],
 "metadata": {
  "kernelspec": {
   "display_name": "Python 3 (ipykernel)",
   "language": "python",
   "name": "python3"
  },
  "language_info": {
   "codemirror_mode": {
    "name": "ipython",
    "version": 3
   },
   "file_extension": ".py",
   "mimetype": "text/x-python",
   "name": "python",
   "nbconvert_exporter": "python",
   "pygments_lexer": "ipython3",
   "version": "3.12.7"
  }
 },
 "nbformat": 4,
 "nbformat_minor": 5
}
