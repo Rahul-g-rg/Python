{
 "cells": [
  {
   "cell_type": "markdown",
   "id": "8a5436fe-efb7-412d-811b-b4a901207a12",
   "metadata": {},
   "source": [
    "# Lists in Python"
   ]
  },
  {
   "cell_type": "code",
   "execution_count": 1,
   "id": "6e2e7b44-5bba-4f02-9805-ccd8a6116ae1",
   "metadata": {},
   "outputs": [
    {
     "name": "stdout",
     "output_type": "stream",
     "text": [
      "Original List: [5, 12, 8, 20, 3]\n"
     ]
    }
   ],
   "source": [
    "# Q1: Create a list of 5 random numbers and print the list\n",
    "numbers = [5, 12, 8, 20, 3]\n",
    "print(\"Original List:\", numbers)"
   ]
  },
  {
   "cell_type": "code",
   "execution_count": 3,
   "id": "1af578c5-11a8-4676-8fd5-e4195eb7691e",
   "metadata": {},
   "outputs": [
    {
     "name": "stdout",
     "output_type": "stream",
     "text": [
      "Updated List: [5, 12, 8, 20, 3, 15, 25, 30, 15, 25, 30]\n"
     ]
    }
   ],
   "source": [
    "# Q2: Insert 3 new values to the list and print the updated list\n",
    "numbers.extend([15, 25, 30])\n",
    "print(\"Updated List:\", numbers)"
   ]
  },
  {
   "cell_type": "code",
   "execution_count": 4,
   "id": "e67b7eb6-d6b0-43ef-95cd-6a476b8e981c",
   "metadata": {},
   "outputs": [
    {
     "name": "stdout",
     "output_type": "stream",
     "text": [
      "List Elements:\n",
      "5\n",
      "12\n",
      "8\n",
      "20\n",
      "3\n",
      "15\n",
      "25\n",
      "30\n",
      "15\n",
      "25\n",
      "30\n"
     ]
    }
   ],
   "source": [
    "# Q3: Use a for loop to print each element in the list\n",
    "print(\"List Elements:\")\n",
    "for num in numbers:\n",
    "     print(num)"
   ]
  },
  {
   "cell_type": "markdown",
   "id": "eaaa8fed-d150-4864-a63c-f7977c70ab45",
   "metadata": {},
   "source": [
    "# Dictionaries in Python"
   ]
  },
  {
   "cell_type": "code",
   "execution_count": 9,
   "id": "ca64b8a0-6518-47dd-b641-c148640356fd",
   "metadata": {},
   "outputs": [
    {
     "name": "stdout",
     "output_type": "stream",
     "text": [
      "Original Dictionary: {'Name': 'John', 'Age': 25, 'Address': 'New York'}\n"
     ]
    }
   ],
   "source": [
    "# Q1: Create a dictionary with keys 'name', 'age', 'address'\n",
    "person = {\"Name\" : \"John\", \"Age\" : 25, \"Address\" : \"New York\"}\n",
    "print (\"Original Dictionary:\", person)"
   ]
  },
  {
   "cell_type": "code",
   "execution_count": 10,
   "id": "a70e1dd6-ab02-43d9-964d-2af88fccee71",
   "metadata": {},
   "outputs": [
    {
     "name": "stdout",
     "output_type": "stream",
     "text": [
      "Updated Dictionary : {'Name': 'John', 'Age': 25, 'Address': 'New York', 'Phone': '1234567890'}\n"
     ]
    }
   ],
   "source": [
    "# Q2: Add a new key-value pair (phone number)\n",
    "person [\"Phone\"] = \"1234567890\"\n",
    "print (\"Updated Dictionary :\", person)"
   ]
  },
  {
   "cell_type": "markdown",
   "id": "517e874b-d17a-422b-bc0b-608c028f775c",
   "metadata": {},
   "source": [
    "# Sets in Python"
   ]
  },
  {
   "cell_type": "code",
   "execution_count": 11,
   "id": "7f0d1988-5dcb-4be1-91e0-a5e9c727591f",
   "metadata": {},
   "outputs": [
    {
     "name": "stdout",
     "output_type": "stream",
     "text": [
      "Original Set: {1, 2, 3, 4, 5}\n"
     ]
    }
   ],
   "source": [
    "# Q1: Create a set with values 1, 2, 3, 4, and 5\n",
    "num_set = {1, 2, 3, 4, 5}\n",
    "print(\"Original Set:\", num_set)"
   ]
  },
  {
   "cell_type": "code",
   "execution_count": 12,
   "id": "58770fd8-dfe0-4634-8897-f21169babafa",
   "metadata": {},
   "outputs": [
    {
     "name": "stdout",
     "output_type": "stream",
     "text": [
      "Set after adding 6: {1, 2, 3, 4, 5, 6}\n"
     ]
    }
   ],
   "source": [
    "# Q2: Add the value 6 to the set\n",
    "num_set.add(6)\n",
    "print(\"Set after adding 6:\", num_set)"
   ]
  },
  {
   "cell_type": "code",
   "execution_count": 13,
   "id": "d6a7e027-965f-4224-8eea-b5221efbfddc",
   "metadata": {},
   "outputs": [
    {
     "name": "stdout",
     "output_type": "stream",
     "text": [
      "Set after removing 3: {1, 2, 4, 5, 6}\n"
     ]
    }
   ],
   "source": [
    "# Q3: Remove the value 3 from the set\n",
    "num_set.discard(3) \n",
    "print (\"Set after removing 3:\",num_set)"
   ]
  },
  {
   "cell_type": "markdown",
   "id": "12178799-cb63-453e-826d-b6af052a3be0",
   "metadata": {},
   "source": [
    "# Tuples in Python"
   ]
  },
  {
   "cell_type": "code",
   "execution_count": 14,
   "id": "99a7d59c-4358-4eac-8647-2d71de3cc9ea",
   "metadata": {},
   "outputs": [
    {
     "name": "stdout",
     "output_type": "stream",
     "text": [
      "Tuple: (1, 2, 3, 4)\n"
     ]
    }
   ],
   "source": [
    "# Q1: Create a tuple with values 1, 2, 3, and 4\n",
    "num_tuple = (1, 2, 3, 4)\n",
    "print(\"Tuple:\", num_tuple)"
   ]
  },
  {
   "cell_type": "code",
   "execution_count": 15,
   "id": "bbe6aeec-c0c4-418a-8ad2-93b5c28dae0d",
   "metadata": {},
   "outputs": [
    {
     "name": "stdout",
     "output_type": "stream",
     "text": [
      "Length of Tuple: 4\n"
     ]
    }
   ],
   "source": [
    "# Q2: Print the length of the tuple\n",
    "print(\"Length of Tuple:\", len(num_tuple))"
   ]
  },
  {
   "cell_type": "code",
   "execution_count": null,
   "id": "f328ed96-af2d-4c5d-a4a4-1c7733426f66",
   "metadata": {},
   "outputs": [],
   "source": []
  }
 ],
 "metadata": {
  "kernelspec": {
   "display_name": "Python 3 (ipykernel)",
   "language": "python",
   "name": "python3"
  },
  "language_info": {
   "codemirror_mode": {
    "name": "ipython",
    "version": 3
   },
   "file_extension": ".py",
   "mimetype": "text/x-python",
   "name": "python",
   "nbconvert_exporter": "python",
   "pygments_lexer": "ipython3",
   "version": "3.12.7"
  }
 },
 "nbformat": 4,
 "nbformat_minor": 5
}
