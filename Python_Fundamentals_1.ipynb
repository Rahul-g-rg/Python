{
 "cells": [
  {
   "cell_type": "code",
   "execution_count": 1,
   "id": "c1f9c458-8b34-4a45-93ff-1017e98af6b3",
   "metadata": {},
   "outputs": [
    {
     "name": "stdout",
     "output_type": "stream",
     "text": [
      "Rahul G\n",
      "M30313\n",
      "rahulrahulgangadharan@gmail.com\n"
     ]
    }
   ],
   "source": [
    "# Exercise 1 \n",
    "# prints your name, student number, and email address\n",
    "\n",
    "print (\"Rahul G\")\n",
    "print(\"M30313\")\n",
    "print(\"rahulrahulgangadharan@gmail.com"
   ]
  },
  {
   "cell_type": "code",
   "execution_count": 2,
   "id": "efc2654f-6bd3-4053-b0e6-693dad80c3ae",
   "metadata": {},
   "outputs": [
    {
     "name": "stdout",
     "output_type": "stream",
     "text": [
      "Rahul G\n",
      "M30313\n",
      "rahulrahulgangadharan@gmail.com\n"
     ]
    }
   ],
   "source": [
    "# Exercise 2 Escape Sequences\n",
    "# prints name, student number, and email address using escape sequences.\n",
    "\n",
    "print (\"Rahul G\\nM30313\\nrahulrahulgangadharan@gmail.com\")"
   ]
  },
  {
   "cell_type": "code",
   "execution_count": 3,
   "id": "38c3bcfd-ecb1-4a03-844d-6485d0d9cd46",
   "metadata": {},
   "outputs": [
    {
     "name": "stdout",
     "output_type": "stream",
     "text": [
      "14 + 7 = 21\n",
      "14 * 7 = 98\n",
      "14 - 7 = 7\n",
      "14 / 7 = 2.0\n"
     ]
    }
   ],
   "source": [
    "#Exercise 3\n",
    "# Python code that adds, subtracts, multiplies, and divides two numbers (14 and 7).\n",
    "\n",
    "# Define numbers\n",
    "num1 = 14\n",
    "num2 = 7\n",
    "\n",
    "print (num1, \"+\", num2, \"=\", num1 + num2)\n",
    "print (num1, \"*\", num2, \"=\", num1 * num2)\n",
    "print (num1, \"-\", num2, \"=\", num1 - num2)\n",
    "print (num1, \"/\", num2, \"=\", num1 / num2)"
   ]
  },
  {
   "cell_type": "code",
   "execution_count": 5,
   "id": "8ff04c96-1e94-4d3f-bc41-8b4e5b827f77",
   "metadata": {},
   "outputs": [
    {
     "name": "stdout",
     "output_type": "stream",
     "text": [
      "1\n",
      "2\n",
      "3\n",
      "4\n",
      "5\n",
      "1\n",
      "2\n",
      "3\n",
      "4\n",
      "5\n"
     ]
    }
   ],
   "source": [
    "# Exercise 4 displays numbers from 1 to 5\n",
    "print(1)\n",
    "print(2)\n",
    "print(3)\n",
    "print(4)\n",
    "print(5)\n",
    "\n",
    "for i in range(1, 6):\n",
    "    print(i) # using loop\n",
    "\n"
   ]
  },
  {
   "cell_type": "code",
   "execution_count": 7,
   "id": "a89ab04d-237e-4e9d-9f58-b2fed9497e8c",
   "metadata": {},
   "outputs": [
    {
     "name": "stdout",
     "output_type": "stream",
     "text": [
      "\"SDK\" stands for \"Software Development Kit\", whereas \n",
      "\"IDE\" stands for \"Integrated Development Environment\".\n",
      "\n",
      "\"SDK\" stands for \"Software Development Kit\", whereas \n",
      "\"IDE\" stands for \"Integrated Development Environment\".\n",
      "\n"
     ]
    }
   ],
   "source": [
    "#Exercise 5 Write Python code to output the following sentence, including the quotation marks and line break\n",
    "\n",
    "print(\"\\\"SDK\\\" stands for \\\"Software Development Kit\\\", whereas \\n\\\"IDE\\\" stands for \\\"Integrated Development Environment\\\".\")\n",
    "\n",
    "# \\\" → Used to print double quotes (\") inside the string.\n",
    "\n",
    "#Alternative Approach (Using Triple Quotes)\n",
    "\n",
    "print(\"\"\"\n",
    "\"SDK\" stands for \"Software Development Kit\", whereas \n",
    "\"IDE\" stands for \"Integrated Development Environment\".\n",
    "\"\"\")\n"
   ]
  },
  {
   "cell_type": "code",
   "execution_count": 8,
   "id": "a42cabaa-42b8-496a-9622-49a0b7d256e9",
   "metadata": {},
   "outputs": [
    {
     "name": "stdout",
     "output_type": "stream",
     "text": [
      "python is an \"awesome\" language.\n",
      "python\n",
      "\t2023\n",
      "I'm from Entri\n",
      "5\n",
      "e\n",
      "Entri\n",
      "2023\n",
      "Entr2023\n",
      "Entri*20"
     ]
    }
   ],
   "source": [
    "#Exercise 6 Run the given print statements and observe the output.\n",
    "\n",
    "print(\"python is an \\\"awesome\\\" language.\")  # Prints double quotes around 'awesome'\n",
    "print(\"python\\n\\t2023\")  # New line and tab space before '2023'\n",
    "print('I\\'m from Entri.\\b')  # Escape character for apostrophe and backspace\n",
    "print(\"\\65\")  # ASCII value 65, which represents 'A'\n",
    "print(\"\\x65\")  # Hexadecimal 65, which represents 'e'\n",
    "print(\"Entri\", \"2023\", sep=\"\\n\")  # Prints on separate lines\n",
    "print(\"Entri\", \"2023\", sep=\"\\b\")  # Uses backspace character\n",
    "print(\"Entri\", \"2023\", sep=\"*\", end=\"\\b\\b\\b\\b\")  # Custom separator and backspace at the end\n"
   ]
  },
  {
   "cell_type": "code",
   "execution_count": 14,
   "id": "4f247cd7-d45e-42ba-8d64-11f66778895d",
   "metadata": {},
   "outputs": [
    {
     "name": "stdout",
     "output_type": "stream",
     "text": [
      "Type of num: <class 'int'>\n",
      "Type of textnum: <class 'str'>\n",
      "Type of decimal: <class 'float'>\n",
      "Sum of variables: 178.3\n",
      "Type of sum: <class 'float'>\n"
     ]
    }
   ],
   "source": [
    "# Exercise 7 Variable Types and Type Conversion\n",
    "\n",
    "# Define variables\n",
    "num = 23\n",
    "textnum = \"57\"\n",
    "decimal = 98.3\n",
    "\n",
    "# Print the type of each variable\n",
    "print(\"Type of num:\", type(num))\n",
    "print(\"Type of textnum:\", type(textnum))\n",
    "print(\"Type of decimal:\", type(decimal))\n",
    "\n",
    "# Convert textnum to an integer\n",
    "textnum_int = int(textnum)\n",
    "\n",
    "# Calculate sum\n",
    "total = num + textnum_int + decimal\n",
    "\n",
    "# Print the sum and its type\n",
    "print(\"Sum of variables:\", total)\n",
    "print(\"Type of sum:\", type(total))\n"
   ]
  },
  {
   "cell_type": "code",
   "execution_count": 15,
   "id": "5c78fa72-6c46-448a-8700-b02db2c0d77d",
   "metadata": {},
   "outputs": [
    {
     "name": "stdout",
     "output_type": "stream",
     "text": [
      "The total number of minutes in a year is: 525600\n"
     ]
    }
   ],
   "source": [
    "# Exercise 8  Calculate the Number of Minutes in a Year\n",
    "\n",
    "# Define variables\n",
    "days_in_year = 365\n",
    "hours_in_day = 24\n",
    "minutes_in_hour = 60\n",
    "\n",
    "# Calculate total minutes in a year\n",
    "total_minutes = days_in_year * hours_in_day * minutes_in_hour\n",
    "\n",
    "# Print the result with explanation\n",
    "print(\"The total number of minutes in a year is:\", total_minutes)\n"
   ]
  },
  {
   "cell_type": "code",
   "execution_count": 16,
   "id": "9b844399-2f2d-4623-b825-bec7f426ab71",
   "metadata": {},
   "outputs": [
    {
     "name": "stdin",
     "output_type": "stream",
     "text": [
      "Please enter your name:  Rahul G\n"
     ]
    },
    {
     "name": "stdout",
     "output_type": "stream",
     "text": [
      "Hi Rahul G, welcome to Python programming! :)\n"
     ]
    }
   ],
   "source": [
    "# Exercise 9: Greeting the User\n",
    "\n",
    "# Ask user for their name\n",
    "name = input(\"Please enter your name: \")\n",
    "\n",
    "# Print greeting message\n",
    "print(\"Hi\", name + \", welcome to Python programming! :)\")\n"
   ]
  },
  {
   "cell_type": "code",
   "execution_count": 17,
   "id": "fb97c57d-2dce-4a48-ac5e-cb6c91cb2761",
   "metadata": {},
   "outputs": [
    {
     "name": "stdin",
     "output_type": "stream",
     "text": [
      "Please enter amount in pounds (£):  10\n"
     ]
    },
    {
     "name": "stdout",
     "output_type": "stream",
     "text": [
      "£10.0 are $12.50\n"
     ]
    }
   ],
   "source": [
    "# Exercise 10: Convert Pounds to Dollars \n",
    "\n",
    "# Ask user for amount in pounds\n",
    "pounds = float(input(\"Please enter amount in pounds (£): \"))\n",
    "\n",
    "# Conversion rate (example: 1 pound = 1.25 dollars, update as needed)\n",
    "conversion_rate = 1.25  \n",
    "\n",
    "# Convert pounds to dollars\n",
    "dollars = pounds * conversion_rate\n",
    "\n",
    "# Print the result\n",
    "print(f\"£{pounds} are ${dollars:.2f}\")\n"
   ]
  },
  {
   "cell_type": "code",
   "execution_count": null,
   "id": "51aa43b0-2688-41af-be9c-072f074e0ce8",
   "metadata": {},
   "outputs": [],
   "source": []
  }
 ],
 "metadata": {
  "kernelspec": {
   "display_name": "Python 3 (ipykernel)",
   "language": "python",
   "name": "python3"
  },
  "language_info": {
   "codemirror_mode": {
    "name": "ipython",
    "version": 3
   },
   "file_extension": ".py",
   "mimetype": "text/x-python",
   "name": "python",
   "nbconvert_exporter": "python",
   "pygments_lexer": "ipython3",
   "version": "3.12.7"
  }
 },
 "nbformat": 4,
 "nbformat_minor": 5
}
