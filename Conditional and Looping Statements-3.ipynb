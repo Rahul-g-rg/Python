{
 "cells": [
  {
   "cell_type": "markdown",
   "id": "6fedd5e6-a8af-4152-9439-49b828a0fa3d",
   "metadata": {},
   "source": [
    "# Conditional and Looping Statements"
   ]
  },
  {
   "cell_type": "code",
   "execution_count": 3,
   "id": "c21380eb-4fd6-4127-abaa-3b186b11e915",
   "metadata": {},
   "outputs": [
    {
     "name": "stdin",
     "output_type": "stream",
     "text": [
      "Enter the month:  2\n"
     ]
    },
    {
     "name": "stdout",
     "output_type": "stream",
     "text": [
      "Month 2 is February\n"
     ]
    }
   ],
   "source": [
    "# Exercise 1: MonthNames.py\n",
    "## Method 1: Using a List \n",
    "\n",
    "\n",
    "# Take input from the user\n",
    "month_number = int(input(\"Enter the month: \"))  # Convert input to integer\n",
    "\n",
    "# List of month names\n",
    "months = [\"January\", \"February\", \"March\", \"April\", \"May\", \"June\", \"July\", \n",
    "          \"August\", \"September\", \"October\", \"November\", \"December\"]\n",
    "\n",
    "# Check if the input is valid\n",
    "if 1 <= month_number <= 12:\n",
    "    print(f\"Month {month_number} is {months[month_number - 1]}\")\n",
    "else:\n",
    "    print(\"Invalid input! Please enter a number between 1 and 12.\")"
   ]
  },
  {
   "cell_type": "code",
   "execution_count": 5,
   "id": "da1bc361-dc12-4744-ad25-ff09c7618972",
   "metadata": {},
   "outputs": [
    {
     "name": "stdin",
     "output_type": "stream",
     "text": [
      "Enter the month:  55\n"
     ]
    },
    {
     "name": "stdout",
     "output_type": "stream",
     "text": [
      "Invalid input! Please enter a number between 1 and 12.\n"
     ]
    }
   ],
   "source": [
    "# Method 2: Using a Dictionary\n",
    "\n",
    "#Take input from the user\n",
    "month_number = int(input(\"Enter the month: \"))  # Convert input to integer\n",
    "\n",
    "#Dictionary of month names\n",
    "month_dict = {\n",
    "    1: \"January\", 2: \"February\", 3: \"March\", 4: \"April\", 5: \"May\", 6: \"June\",\n",
    "    7: \"July\", 8: \"August\", 9: \"September\", 10: \"October\", 11: \"November\", 12: \"December\"\n",
    "}\n",
    "\n",
    "# Step 3: Get the corresponding month name\n",
    "if month_number in month_dict:\n",
    "    print(f\"Month {month_number} is {month_dict[month_number]}\")\n",
    "else:\n",
    "    print(\"Invalid input! Please enter a number between 1 and 12.\")"
   ]
  },
  {
   "cell_type": "markdown",
   "id": "3df96a7c-9aae-4bdd-b0c1-a26fbf28a1d6",
   "metadata": {},
   "source": [
    "### Exercise 2: Cinema Ticket Pricing"
   ]
  },
  {
   "cell_type": "code",
   "execution_count": 9,
   "id": "606a63fb-93bd-4dbe-a12a-05289a88a93a",
   "metadata": {},
   "outputs": [
    {
     "name": "stdin",
     "output_type": "stream",
     "text": [
      "Enter your age:  65\n"
     ]
    },
    {
     "name": "stdout",
     "output_type": "stream",
     "text": [
      "Your ticket costs £2.00\n"
     ]
    }
   ],
   "source": [
    "# CinemaTicket\n",
    "\n",
    "#Take input from the user\n",
    "age = int(input(\"Enter your age: \"))  # Convert input to integer\n",
    "\n",
    "#Define ticket price based on age\n",
    "full_price = 6  # Full ticket price\n",
    "\n",
    "if age < 16:\n",
    "    price = full_price / 2  # 50% discount\n",
    "elif age >= 60:\n",
    "    price = full_price / 3  # 67% discount\n",
    "else:\n",
    "    price = full_price  # Full price\n",
    "\n",
    "# Step 3: Print the ticket price\n",
    "print(f\"Your ticket costs £{price:.2f}\")  # Format to 2 decimal places"
   ]
  },
  {
   "cell_type": "markdown",
   "id": "0984c907-0bd3-4397-8c61-587116624885",
   "metadata": {},
   "source": [
    "### Exercise 3: Body Mass Index (BMI) Calculator"
   ]
  },
  {
   "cell_type": "code",
   "execution_count": 11,
   "id": "ceac25c3-caa3-41a2-b9d9-c7bb4b4000cf",
   "metadata": {},
   "outputs": [
    {
     "name": "stdin",
     "output_type": "stream",
     "text": [
      "Enter your weight in (kg):  72\n",
      "Enter your height in (m):  1.65\n"
     ]
    },
    {
     "name": "stdout",
     "output_type": "stream",
     "text": [
      "Your BMI is: 26.45\n",
      "You are in the \"overweight\" range.\n"
     ]
    }
   ],
   "source": [
    "# BodyMassIndex\n",
    "\n",
    "#Take user input for weight and height\n",
    "weight = float(input(\"Enter your weight in (kg): \"))  # Convert to float\n",
    "height = float(input(\"Enter your height in (m): \"))  # Convert to float\n",
    "\n",
    "#Calculate BMI\n",
    "bmi = weight / (height ** 2)  # BMI formula\n",
    "\n",
    "#Determine BMI category\n",
    "if bmi < 18.5:\n",
    "    category = \"underweight\"\n",
    "elif 18.5 <= bmi < 25:\n",
    "    category = \"normal\"\n",
    "elif 25 <= bmi < 30:\n",
    "    category = \"overweight\"\n",
    "else:\n",
    "    category = \"obese\"\n",
    "\n",
    "#Print the result\n",
    "print(f\"Your BMI is: {bmi:.2f}\")  # Format to 2 decimal places\n",
    "print(f\"You are in the \\\"{category}\\\" range.\")\n"
   ]
  },
  {
   "cell_type": "markdown",
   "id": "ec7a941b-6e2a-4337-b75d-77e90c942d7b",
   "metadata": {},
   "source": [
    "### Exercise 4: Find the Greatest Number"
   ]
  },
  {
   "cell_type": "code",
   "execution_count": 15,
   "id": "4ceb24b7-81e2-4fe4-b541-aa578058d363",
   "metadata": {},
   "outputs": [
    {
     "name": "stdin",
     "output_type": "stream",
     "text": [
      "Enter first number:  20\n",
      "Enter second number:  30\n",
      "Enter third number:  10\n"
     ]
    },
    {
     "name": "stdout",
     "output_type": "stream",
     "text": [
      "The greatest number is: 30\n"
     ]
    }
   ],
   "source": [
    "# GreatestNumber\n",
    "## Method 1: Using if-elif-else\n",
    "\n",
    "#Take user input for three numbers\n",
    "num1 = int(input(\"Enter first number: \"))  # Convert input to integer\n",
    "num2 = int(input(\"Enter second number: \"))\n",
    "num3 = int(input(\"Enter third number: \"))\n",
    "\n",
    "#Determine the greatest number\n",
    "if num1 >= num2 and num1 >= num3:\n",
    "    greatest = num1\n",
    "elif num2 >= num1 and num2 >= num3:\n",
    "    greatest = num2\n",
    "else:\n",
    "    greatest = num3\n",
    "\n",
    "#Print the greatest number\n",
    "print(f\"The greatest number is: {greatest}\")\n"
   ]
  },
  {
   "cell_type": "code",
   "execution_count": 16,
   "id": "1b957766-deb7-4544-b845-45da5a1fdb30",
   "metadata": {},
   "outputs": [
    {
     "name": "stdin",
     "output_type": "stream",
     "text": [
      "Enter first number:  10\n",
      "Enter second number:  20\n",
      "Enter third number:  30\n"
     ]
    },
    {
     "name": "stdout",
     "output_type": "stream",
     "text": [
      "The greatest number is: 30\n"
     ]
    }
   ],
   "source": [
    "## Method 2: Using the max() Function\n",
    "\n",
    "# GreatestNumber\n",
    "\n",
    "#Take user input for three numbers\n",
    "num1 = int(input(\"Enter first number: \"))\n",
    "num2 = int(input(\"Enter second number: \"))\n",
    "num3 = int(input(\"Enter third number: \"))\n",
    "\n",
    "#Determine the greatest number using max()\n",
    "greatest = max(num1, num2, num3)\n",
    "\n",
    "#Print the greatest number\n",
    "print(f\"The greatest number is: {greatest}\")\n",
    "\n"
   ]
  },
  {
   "cell_type": "markdown",
   "id": "90322f20-0b22-4216-9a36-49cd170fa21f",
   "metadata": {},
   "source": [
    "### Exercise 5: Factorial of a Number using Loops"
   ]
  },
  {
   "cell_type": "code",
   "execution_count": 17,
   "id": "8e40f4a2-2e63-4ef5-ac01-eeb0b7ddb035",
   "metadata": {},
   "outputs": [
    {
     "name": "stdin",
     "output_type": "stream",
     "text": [
      "Enter a number:  2\n"
     ]
    },
    {
     "name": "stdout",
     "output_type": "stream",
     "text": [
      "The factorial of 2 is 2\n"
     ]
    }
   ],
   "source": [
    "##Method 1: Using a for Loop\n",
    "\n",
    "# Factorial\n",
    "\n",
    "#Take user input\n",
    "num = int(input(\"Enter a number: \"))  # Convert input to integer\n",
    "\n",
    "#Initialize factorial to 1\n",
    "factorial = 1\n",
    "\n",
    "#Compute factorial using a loop\n",
    "if num < 0:\n",
    "    print(\"Factorial is not defined for negative numbers.\")\n",
    "elif num == 0 or num == 1:\n",
    "    print(f\"The factorial of {num} is 1\")\n",
    "else:\n",
    "    for i in range(1, num + 1):\n",
    "        factorial *= i  # Multiply numbers iteratively\n",
    "    print(f\"The factorial of {num} is {factorial}\")\n"
   ]
  },
  {
   "cell_type": "code",
   "execution_count": 18,
   "id": "eeaf124d-3ab0-4420-b299-0b150a588e98",
   "metadata": {},
   "outputs": [
    {
     "name": "stdin",
     "output_type": "stream",
     "text": [
      "Enter a number:  4\n"
     ]
    },
    {
     "name": "stdout",
     "output_type": "stream",
     "text": [
      "The factorial of 4 is 24\n"
     ]
    }
   ],
   "source": [
    "## Method 2: Using a while Loop\n",
    "\n",
    "# Factorial\n",
    "\n",
    "#Take user input\n",
    "num = int(input(\"Enter a number: \"))  # Convert input to integer\n",
    "\n",
    "#Initialize factorial to 1\n",
    "factorial = 1\n",
    "i = 1\n",
    "\n",
    "#Compute factorial using a while loop\n",
    "if num < 0:\n",
    "    print(\"Factorial is not defined for negative numbers.\")\n",
    "elif num == 0 or num == 1:\n",
    "    print(f\"The factorial of {num} is 1\")\n",
    "else:\n",
    "    while i <= num:\n",
    "        factorial *= i\n",
    "        i += 1  # Increment counter\n",
    "    print(f\"The factorial of {num} is {factorial}\")\n"
   ]
  },
  {
   "cell_type": "markdown",
   "id": "52259c95-77f1-467c-a936-b2bdeea23488",
   "metadata": {},
   "source": [
    "### Exercise 6: Reverse a Number using while Loop"
   ]
  },
  {
   "cell_type": "code",
   "execution_count": 19,
   "id": "0d0760d3-bd26-4108-8893-a6c17a002d99",
   "metadata": {},
   "outputs": [
    {
     "name": "stdin",
     "output_type": "stream",
     "text": [
      "Enter a number:  9071143568\n"
     ]
    },
    {
     "name": "stdout",
     "output_type": "stream",
     "text": [
      "Reversed number: 8653411709\n"
     ]
    }
   ],
   "source": [
    "# ReverseNumber\n",
    "\n",
    "#Take user input\n",
    "num = int(input(\"Enter a number: \"))  # Convert input to integer\n",
    "\n",
    "#Initialize reversed number\n",
    "reversed_num = 0\n",
    "\n",
    "#Reverse the number using while loop\n",
    "while num > 0:\n",
    "    last_digit = num % 10  # Get last digit\n",
    "    reversed_num = (reversed_num * 10) + last_digit  # Build reversed number\n",
    "    num = num // 10  # Remove last digit\n",
    "\n",
    "# Step 4: Print the reversed number\n",
    "print(f\"Reversed number: {reversed_num}\")\n"
   ]
  },
  {
   "cell_type": "code",
   "execution_count": 20,
   "id": "0183d9f1-c90d-4a3b-b0b7-02024178c908",
   "metadata": {},
   "outputs": [
    {
     "name": "stdin",
     "output_type": "stream",
     "text": [
      "Enter a number:  -123456\n"
     ]
    },
    {
     "name": "stdout",
     "output_type": "stream",
     "text": [
      "Reversed number: -654321\n"
     ]
    }
   ],
   "source": [
    "## Handling Negative Numbers\n",
    "\n",
    "# ReverseNumber\n",
    "\n",
    "#Take user input\n",
    "num = int(input(\"Enter a number: \"))  # Convert input to integer\n",
    "\n",
    "#Store the sign and make number positive\n",
    "sign = -1 if num < 0 else 1  # Check if negative\n",
    "num = abs(num)  # Make positive\n",
    "\n",
    "#Initialize reversed number\n",
    "reversed_num = 0\n",
    "\n",
    "#Reverse the number using while loop\n",
    "while num > 0:\n",
    "    last_digit = num % 10  # Get last digit\n",
    "    reversed_num = (reversed_num * 10) + last_digit  # Build reversed number\n",
    "    num = num // 10  # Remove last digit\n",
    "\n",
    "#Print the reversed number with sign\n",
    "print(f\"Reversed number: {sign * reversed_num}\")\n"
   ]
  },
  {
   "cell_type": "markdown",
   "id": "eaceeebb-5cab-4770-a432-93f27903de4b",
   "metadata": {},
   "source": [
    "### Exercise 7: Finding Multiples of a Number using a Loop"
   ]
  },
  {
   "cell_type": "code",
   "execution_count": 21,
   "id": "6dfddd24-9cdf-4b8e-a49a-7e10ccf1303e",
   "metadata": {},
   "outputs": [
    {
     "name": "stdin",
     "output_type": "stream",
     "text": [
      "Enter a number:  2\n"
     ]
    },
    {
     "name": "stdout",
     "output_type": "stream",
     "text": [
      "Multiples of 2: 2, 4, 6, 8, 10, 12, 14, 16, 18, 20\n"
     ]
    }
   ],
   "source": [
    "# Multiples\n",
    "\n",
    "#Take user input\n",
    "num = int(input(\"Enter a number: \"))  # Convert input to integer\n",
    "\n",
    "#Use a loop to generate multiples\n",
    "print(f\"Multiples of {num}: \", end=\"\")\n",
    "\n",
    "for i in range(1, 11):  # Loop from 1 to 10\n",
    "    multiple = num * i  # Calculate multiple\n",
    "    if i < 10:\n",
    "        print(multiple, end=\", \")  # Print with comma\n",
    "    else:\n",
    "        print(multiple)  # Print last value without comma\n"
   ]
  },
  {
   "cell_type": "markdown",
   "id": "0ffbe76d-0246-48bf-8357-4080e298a894",
   "metadata": {},
   "source": [
    "### Exercise 8: Breaking a Loop on 'done' Input"
   ]
  },
  {
   "cell_type": "code",
   "execution_count": 22,
   "id": "80949e2f-8a6a-453d-b2cc-ac2c84f06d98",
   "metadata": {},
   "outputs": [
    {
     "name": "stdin",
     "output_type": "stream",
     "text": [
      "Enter something:  Hi \n"
     ]
    },
    {
     "name": "stdout",
     "output_type": "stream",
     "text": [
      "Hi \n"
     ]
    },
    {
     "name": "stdin",
     "output_type": "stream",
     "text": [
      "Enter something:  Hello\n"
     ]
    },
    {
     "name": "stdout",
     "output_type": "stream",
     "text": [
      "Hello\n"
     ]
    },
    {
     "name": "stdin",
     "output_type": "stream",
     "text": [
      "Enter something:  Welcome \n"
     ]
    },
    {
     "name": "stdout",
     "output_type": "stream",
     "text": [
      "Welcome \n"
     ]
    },
    {
     "name": "stdin",
     "output_type": "stream",
     "text": [
      "Enter something:  how are you \n"
     ]
    },
    {
     "name": "stdout",
     "output_type": "stream",
     "text": [
      "how are you \n"
     ]
    },
    {
     "name": "stdin",
     "output_type": "stream",
     "text": [
      "Enter something:  Done\n"
     ]
    },
    {
     "name": "stdout",
     "output_type": "stream",
     "text": [
      "Done\n"
     ]
    }
   ],
   "source": [
    "# BreakLoop\n",
    "\n",
    "while True:  # Infinite loop\n",
    "    user_input = input(\"Enter something: \")  # Take user input\n",
    "    \n",
    "    if user_input.lower() == \"done\":  # Check if input is 'done' (case insensitive)\n",
    "        print(\"Done\")\n",
    "        break  # Exit the loop\n",
    "    \n",
    "    print(user_input)  # Print input back\n"
   ]
  },
  {
   "cell_type": "markdown",
   "id": "4a4244b8-3911-41cf-ac35-900cffda2bce",
   "metadata": {},
   "source": [
    "### Exercise 9: FizzBuzz Program"
   ]
  },
  {
   "cell_type": "code",
   "execution_count": 23,
   "id": "6972baf0-14d7-49c9-bf7f-ba97b443c776",
   "metadata": {},
   "outputs": [
    {
     "name": "stdout",
     "output_type": "stream",
     "text": [
      "1\n",
      "2\n",
      "Fizz\n",
      "4\n",
      "Buzz\n",
      "Fizz\n",
      "7\n",
      "8\n",
      "Fizz\n",
      "Buzz\n"
     ]
    }
   ],
   "source": [
    "# FizzBuzz\n",
    "\n",
    "#Loop through numbers from 1 to 10\n",
    "for num in range(1, 11):\n",
    "    # Step 2: Check conditions\n",
    "    if num % 3 == 0 and num % 5 == 0:\n",
    "        print(\"FizzBuzz\")\n",
    "    elif num % 3 == 0:\n",
    "        print(\"Fizz\")\n",
    "    elif num % 5 == 0:\n",
    "        print(\"Buzz\")\n",
    "    else:\n",
    "        print(num)  # Print number if no condition matches\n"
   ]
  },
  {
   "cell_type": "markdown",
   "id": "1875c3cc-baed-47d6-90a0-20c7696dc731",
   "metadata": {},
   "source": [
    "### Exercise 10: Printing a Number Pattern"
   ]
  },
  {
   "cell_type": "code",
   "execution_count": 24,
   "id": "02bcb3e8-41ec-4a4b-a7f2-50bd42dacb1e",
   "metadata": {},
   "outputs": [
    {
     "name": "stdout",
     "output_type": "stream",
     "text": [
      "5 4 3 2 1 \n",
      "4 3 2 1 \n",
      "3 2 1 \n",
      "2 1 \n",
      "1 \n"
     ]
    }
   ],
   "source": [
    "# NumberPattern\n",
    "\n",
    "#Loop from 5 to 1\n",
    "for i in range(5, 0, -1):  # Outer loop for rows\n",
    "    for j in range(i, 0, -1):  # Inner loop for numbers in each row\n",
    "        print(j, end=\" \")  # Print numbers in same row\n",
    "    print()  # Move to next line\n"
   ]
  },
  {
   "cell_type": "code",
   "execution_count": null,
   "id": "a732fd3a-de33-460d-beb2-f4383052f0bc",
   "metadata": {},
   "outputs": [],
   "source": []
  }
 ],
 "metadata": {
  "kernelspec": {
   "display_name": "Python 3 (ipykernel)",
   "language": "python",
   "name": "python3"
  },
  "language_info": {
   "codemirror_mode": {
    "name": "ipython",
    "version": 3
   },
   "file_extension": ".py",
   "mimetype": "text/x-python",
   "name": "python",
   "nbconvert_exporter": "python",
   "pygments_lexer": "ipython3",
   "version": "3.12.7"
  }
 },
 "nbformat": 4,
 "nbformat_minor": 5
}
