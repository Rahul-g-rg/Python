{
 "cells": [
  {
   "cell_type": "markdown",
   "id": "55226afa-63d1-40bd-b054-f22a007f89cb",
   "metadata": {},
   "source": [
    "## 1. Using len() Function"
   ]
  },
  {
   "cell_type": "code",
   "execution_count": 2,
   "id": "5c1ac704-cf9f-405a-8c2a-e688c739b7fb",
   "metadata": {},
   "outputs": [
    {
     "name": "stdout",
     "output_type": "stream",
     "text": [
      "The length of the list is: 5\n"
     ]
    }
   ],
   "source": [
    "# The len() function in Python is used to find the length (number of elements) in a list, string, tuple, or dictionary.\n",
    "\n",
    "# Example: Finding the length of a list\n",
    "numbers = [10, 20, 30, 40, 50]\n",
    "length = len(numbers)\n",
    "print(\"The length of the list is:\", length)\n"
   ]
  },
  {
   "cell_type": "markdown",
   "id": "4add5713-4887-44e0-86c4-a77546d098fa",
   "metadata": {},
   "source": [
    "## 2. Function to Print a Greeting"
   ]
  },
  {
   "cell_type": "code",
   "execution_count": 3,
   "id": "40c7fdd0-0ec4-4b97-aacf-81c3aa1c6904",
   "metadata": {},
   "outputs": [
    {
     "name": "stdout",
     "output_type": "stream",
     "text": [
      "Hello, Alice!\n"
     ]
    }
   ],
   "source": [
    "# Function to greet a person\n",
    "def greet(name):\n",
    "    print(f\"Hello, {name}!\")\n",
    "\n",
    "# Example usage\n",
    "greet(\"Alice\")\n"
   ]
  },
  {
   "cell_type": "markdown",
   "id": "bf17103d-fb05-41cf-815e-15753f0bb634",
   "metadata": {},
   "source": [
    "## 3. Function to Find Maximum Value Without max()"
   ]
  },
  {
   "cell_type": "code",
   "execution_count": 4,
   "id": "4800a460-c607-4368-9f7d-c9e23a7d1e93",
   "metadata": {},
   "outputs": [
    {
     "name": "stdout",
     "output_type": "stream",
     "text": [
      "Maximum value: 42\n"
     ]
    }
   ],
   "source": [
    "# Function to find the maximum number in a list\n",
    "def find_maximum(numbers):\n",
    "    if not numbers:  # Check if the list is empty\n",
    "        return None  \n",
    "    max_value = numbers[0]  # Assume the first number is the largest\n",
    "    for num in numbers:\n",
    "        if num > max_value:\n",
    "            max_value = num\n",
    "    return max_value\n",
    "\n",
    "# Example usage\n",
    "num_list = [3, 17, 8, 42, 29]\n",
    "print(\"Maximum value:\", find_maximum(num_list))\n"
   ]
  },
  {
   "cell_type": "markdown",
   "id": "57d862fc-aca7-4584-8f6e-2669c0e2bfc4",
   "metadata": {},
   "source": [
    "## 4. Local vs. Global Variables"
   ]
  },
  {
   "cell_type": "code",
   "execution_count": 9,
   "id": "22593085-78d5-43f4-8bf3-30e056eee240",
   "metadata": {},
   "outputs": [
    {
     "name": "stdout",
     "output_type": "stream",
     "text": [
      "Inside function, x = 5\n",
      "Outside function, x = 10\n"
     ]
    }
   ],
   "source": [
    "# Global variable\n",
    "x = 10\n",
    "\n",
    "def example_function():\n",
    "    # Local variable\n",
    "    x = 5  \n",
    "    print(\"Inside function, x =\", x)  # This refers to the local variable\n",
    "\n",
    "# Example usage\n",
    "example_function()\n",
    "print(\"Outside function, x =\", x)  # This refers to the global variable\n",
    "\n",
    "# Explanation:\n",
    "# Inside the function, x = 5 is a local variable (only exists within the function).\n",
    "# Outside the function, x = 10 is a global variable (exists throughout the program)."
   ]
  },
  {
   "cell_type": "markdown",
   "id": "0a37af4a-5ec0-4c64-bb26-be48a7ca5e0f",
   "metadata": {},
   "source": [
    "## 5. Function with Default Argument"
   ]
  },
  {
   "cell_type": "code",
   "execution_count": 10,
   "id": "9032120b-05c1-4e94-8444-ff84c6246d6e",
   "metadata": {},
   "outputs": [
    {
     "name": "stdout",
     "output_type": "stream",
     "text": [
      "Area when both length and width are given: 60\n",
      "Area when only length is given: 50\n"
     ]
    }
   ],
   "source": [
    "# Function to calculate the area of a rectangle\n",
    "def calculate_area(length, width=5):  # Default width is 5\n",
    "    return length * width\n",
    "\n",
    "# Example usage\n",
    "print(\"Area when both length and width are given:\", calculate_area(10, 6))\n",
    "print(\"Area when only length is given:\", calculate_area(10))  # Uses default width = 5\n"
   ]
  }
 ],
 "metadata": {
  "kernelspec": {
   "display_name": "Python 3 (ipykernel)",
   "language": "python",
   "name": "python3"
  },
  "language_info": {
   "codemirror_mode": {
    "name": "ipython",
    "version": 3
   },
   "file_extension": ".py",
   "mimetype": "text/x-python",
   "name": "python",
   "nbconvert_exporter": "python",
   "pygments_lexer": "ipython3",
   "version": "3.12.7"
  }
 },
 "nbformat": 4,
 "nbformat_minor": 5
}
